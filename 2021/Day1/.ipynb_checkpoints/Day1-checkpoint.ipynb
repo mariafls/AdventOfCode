{
 "cells": [
  {
   "cell_type": "markdown",
   "metadata": {},
   "source": [
    "#  <center> 🎄 🎄 🎄 Advent of code 2021  🎄 🎄 🎄 </center>"
   ]
  },
  {
   "cell_type": "markdown",
   "metadata": {},
   "source": [
    "# -- Day 1: Sonar Sweep --"
   ]
  },
  {
   "cell_type": "markdown",
   "metadata": {},
   "source": [
    "## Part One"
   ]
  },
  {
   "cell_type": "markdown",
   "metadata": {},
   "source": [
    "You're minding your own business on a ship at sea when the overboard alarm goes off! You rush to see if you can help. Apparently, one of the Elves tripped and accidentally sent the sleigh keys flying into the ocean!\n",
    "\n",
    "Before you know it, you're inside a submarine the Elves keep ready for situations like this. It's covered in Christmas lights (because of course it is), and it even has an experimental antenna that should be able to track the keys if you can boost its signal strength high enough; there's a little meter that indicates the antenna's signal strength by displaying 0-50 __stars__.\n",
    "\n",
    "Your instincts tell you that in order to save Christmas, you'll need to get __all fifty__ stars by December 25th.\n",
    "\n",
    "Collect stars by solving puzzles. Two puzzles will be made available on each day in the Advent calendar; the second puzzle is unlocked when you complete the first. Each puzzle grants __one star__. Good luck!\n",
    "\n",
    "As the submarine drops below the surface of the ocean, it automatically performs a sonar sweep of the nearby sea floor. On a small screen, the sonar sweep report (your puzzle input) appears: each line is a measurement of the sea floor depth as the sweep looks further and further away from the submarine.\n",
    "\n",
    "For example, suppose you had the following report: <br> <br>\n",
    "`199` <br>\n",
    "`200` <br>\n",
    "`208` <br>\n",
    "`210` <br>\n",
    "`200` <br>\n",
    "`207` <br>\n",
    "`240` <br>\n",
    "`269` <br>\n",
    "`260` <br>\n",
    "`263` <br>\n",
    "\n",
    "This report indicates that, scanning outward from the submarine, the sonar sweep found depths of 199, 200, 208, 210, and so on.\n",
    "\n",
    "The first order of business is to figure out how quickly the depth increases, just so you know what you're dealing with - you never know if the keys will get carried into deeper water by an ocean current or a fish or something.\n",
    "\n",
    "To do this, count __the number of times a depth measurement increases__ from the previous measurement. (There is no measurement before the first measurement.) <br>\n",
    "In the example above, the changes are as follows: <br> <br>\n",
    "`199` (N/A - no previous measurement) <br>\n",
    "`200` (__increased__) <br>\n",
    "`208` (__increased__) <br>\n",
    "`210` (__increased__) <br>\n",
    "`200` (decreased) <br>\n",
    "`207` (__increased__) <br>\n",
    "`240` (__increased__) <br>\n",
    "`269` (__increased__) <br>\n",
    "`260` (decreased) <br>\n",
    "`263` (__increased__) <br>\n",
    "\n",
    "In this example, there are `7` measurements that are larger than the previous measurement. <br>\n",
    "__How many measurements are larger than the previous measurement?__"
   ]
  },
  {
   "cell_type": "code",
   "execution_count": 4,
   "metadata": {},
   "outputs": [
    {
     "name": "stdout",
     "output_type": "stream",
     "text": [
      "Part 1: 1713\n"
     ]
    }
   ],
   "source": [
    "input = []\n",
    "with open('input_day1.txt') as f:\n",
    "    input = f.read().splitlines() \n",
    "\n",
    "def depth_increases(input):\n",
    "    increase = 0\n",
    "\n",
    "    for i in range(1, len(input)):\n",
    "        if int(input[i]) > int(input[i-1]):\n",
    "            increase = increase + 1\n",
    "    return increase\n",
    "\n",
    "print(\"Part 1:\",depth_increases(input))"
   ]
  },
  {
   "cell_type": "markdown",
   "metadata": {},
   "source": [
    "## Part Two"
   ]
  },
  {
   "cell_type": "markdown",
   "metadata": {},
   "source": [
    "Considering every single measurement isn't as useful as you expected: there's just too much noise in the data.\n",
    "Instead, consider sums of a __three-measurement sliding window__. <br>\n",
    "Again considering the above example: <br> <br>\n",
    "`199  A      ` <br>\n",
    "`200  A B    ` <br>\n",
    "`208  A B C  ` <br>\n",
    "`210    B C D` <br>\n",
    "`200  E   C D` <br>\n",
    "`207  E F   D` <br>\n",
    "`240  E F G  ` <br>\n",
    "`269    F G H` <br>\n",
    "`260      G H` <br>\n",
    "`263        H` <br>\n",
    "\n",
    "Start by comparing the first and second three-measurement windows. The measurements in the first window are marked `A` (`199`, `200`, `208`); their sum is `199 + 200 + 208 = 607`. The second window is marked `B` (`200`, `208`, `210`); its sum is `618`. The sum of measurements in the second window is larger than the sum of the first, so this first comparison __increased__.\n",
    "\n",
    "Your goal now is to count __the number of times the sum of measurements in this sliding window increases__ from the previous sum. So, compare `A` with `B`, then compare `B` with `C`, then `C` with `D`, and so on. Stop when there aren't enough measurements left to create a new three-measurement sum.\n",
    "\n",
    "In the above example, the sum of each three-measurement window is as follows: <br> <br>\n",
    "`A: 607` (N/A - no previous sum) <br>\n",
    "`B: 618` (__increased__) <br>\n",
    "`C: 618` (no change) <br>\n",
    "`D: 617` (decreased) <br>\n",
    "`E: 647` (__increased__) <br>\n",
    "`F: 716` (__increased__) <br>\n",
    "`G: 769` (__increased__) <br>\n",
    "`H: 792` (__increased__) <br>\n",
    "\n",
    "In this example, there are `5` sums that are larger than the previous sum.\n",
    "\n",
    "Consider sums of a three-measurement sliding window. <br> \n",
    "__How many sums are larger than the previous sum?__"
   ]
  },
  {
   "cell_type": "code",
   "execution_count": 5,
   "metadata": {},
   "outputs": [
    {
     "name": "stdout",
     "output_type": "stream",
     "text": [
      "Part 2: 1734\n"
     ]
    }
   ],
   "source": [
    "new_list = []\n",
    "\n",
    "for i in range(0, len(input)-2):\n",
    "    new_list.append(int(input[i]) + int(input[i+1]) + int(input[i+2]))\n",
    "        \n",
    "print(\"Part 2:\", depth_increases(new_list))"
   ]
  }
 ],
 "metadata": {
  "kernelspec": {
   "display_name": "Python 3",
   "language": "python",
   "name": "python3"
  },
  "language_info": {
   "codemirror_mode": {
    "name": "ipython",
    "version": 3
   },
   "file_extension": ".py",
   "mimetype": "text/x-python",
   "name": "python",
   "nbconvert_exporter": "python",
   "pygments_lexer": "ipython3",
   "version": "3.8.3"
  }
 },
 "nbformat": 4,
 "nbformat_minor": 4
}
